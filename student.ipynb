{
 "cells": [
  {
   "cell_type": "markdown",
   "metadata": {},
   "source": [
    "# Chicago Car Crashes Churn Prediction Project"
   ]
  },
  {
   "cell_type": "markdown",
   "metadata": {},
   "source": [
    "## Introduction\n",
    "This project focuses on predicting customer churn using a Chicago Car Crashes dataset. Customer churn, in this context, refers to customers ending their relationship with the service. The objective is to build machine learning models that can identify potential churners based on various features."
   ]
  },
  {
   "cell_type": "markdown",
   "metadata": {},
   "source": [
    "## Dataset Overview\n",
    "The Chicago Car Crashes dataset contains information about car crashes and includes features such as 'state', 'account length', 'area code', 'international plan', 'voice mail plan', and more. The target variable is 'churn', indicating whether a customer has churned (True) or not (False)."
   ]
  },
  {
   "cell_type": "markdown",
   "metadata": {},
   "source": [
    "## Data Exploration\n",
    "The project starts with loading and exploring the dataset. It includes displaying basic information about the dataset, checking the list of columns, and exploring the distribution of the target variable ('churn') using a count plot."
   ]
  },
  {
   "cell_type": "code",
   "execution_count": 199,
   "metadata": {},
   "outputs": [
    {
     "name": "stdout",
     "output_type": "stream",
     "text": [
      "<class 'pandas.core.frame.DataFrame'>\n",
      "RangeIndex: 3333 entries, 0 to 3332\n",
      "Data columns (total 21 columns):\n",
      " #   Column                  Non-Null Count  Dtype  \n",
      "---  ------                  --------------  -----  \n",
      " 0   state                   3333 non-null   object \n",
      " 1   account length          3333 non-null   int64  \n",
      " 2   area code               3333 non-null   int64  \n",
      " 3   phone number            3333 non-null   object \n",
      " 4   international plan      3333 non-null   object \n",
      " 5   voice mail plan         3333 non-null   object \n",
      " 6   number vmail messages   3333 non-null   int64  \n",
      " 7   total day minutes       3333 non-null   float64\n",
      " 8   total day calls         3333 non-null   int64  \n",
      " 9   total day charge        3333 non-null   float64\n",
      " 10  total eve minutes       3333 non-null   float64\n",
      " 11  total eve calls         3333 non-null   int64  \n",
      " 12  total eve charge        3333 non-null   float64\n",
      " 13  total night minutes     3333 non-null   float64\n",
      " 14  total night calls       3333 non-null   int64  \n",
      " 15  total night charge      3333 non-null   float64\n",
      " 16  total intl minutes      3333 non-null   float64\n",
      " 17  total intl calls        3333 non-null   int64  \n",
      " 18  total intl charge       3333 non-null   float64\n",
      " 19  customer service calls  3333 non-null   int64  \n",
      " 20  churn                   3333 non-null   bool   \n",
      "dtypes: bool(1), float64(8), int64(8), object(4)\n",
      "memory usage: 524.2+ KB\n",
      "None\n"
     ]
    }
   ],
   "source": [
    "# Import necessary libraries\n",
    "import pandas as pd\n",
    "import numpy as np\n",
    "import matplotlib.pyplot as plt\n",
    "import seaborn as sns\n",
    "\n",
    "# Load the Chicago Car Crashes dataset\n",
    "crashes_df = pd.read_csv('/home/amina/data-science/Projects/dsc-phase-3-project-v2-3/ChicagoCarCrashes.csv')  # Replace 'path_to_dataset' with the actual path\n",
    "\n",
    "# Display basic information about the dataset\n",
    "print(crashes_df.info())\n",
    "\n"
   ]
  },
  {
   "cell_type": "code",
   "execution_count": 200,
   "metadata": {},
   "outputs": [
    {
     "name": "stdout",
     "output_type": "stream",
     "text": [
      "Index(['state', 'account length', 'area code', 'phone number',\n",
      "       'international plan', 'voice mail plan', 'number vmail messages',\n",
      "       'total day minutes', 'total day calls', 'total day charge',\n",
      "       'total eve minutes', 'total eve calls', 'total eve charge',\n",
      "       'total night minutes', 'total night calls', 'total night charge',\n",
      "       'total intl minutes', 'total intl calls', 'total intl charge',\n",
      "       'customer service calls', 'churn'],\n",
      "      dtype='object')\n"
     ]
    }
   ],
   "source": [
    "# Print the list of columns in the DataFrame\n",
    "print(crashes_df.columns)\n"
   ]
  },
  {
   "cell_type": "code",
   "execution_count": 201,
   "metadata": {},
   "outputs": [
    {
     "data": {
      "image/png": "[encoded data removed]",
      "text/plain": [
       "<Figure size 1000x600 with 1 Axes>"
      ]
     },
     "metadata": {},
     "output_type": "display_data"
    }
   ],
   "source": [
    "# Explore target variable distribution\n",
    "plt.figure(figsize=(10, 6))\n",
    "sns.countplot(x='churn', data=crashes_df)  # Replace 'your_dataframe' with the actual variable name of your DataFrame\n",
    "plt.title('Distribution of Churn')\n",
    "plt.show()\n"
   ]
  },
  {
   "cell_type": "markdown",
   "metadata": {},
   "source": [
    "## Data Preprocessing and Model Building\n",
    "1. Drop Unnecessary Columns: The 'phone number' column is dropped as it does not contribute to predicting churn.\n",
    "\n",
    "2. Label Encoding: Categorical columns like 'state', 'international plan', and 'voice mail plan' are encoded using Label Encoding.\n",
    "\n",
    "3. Train-Test Split: The data is split into training and testing sets.\n",
    "\n",
    "4. Baseline Model: A baseline Random Forest model is built and evaluated.\n",
    "\n",
    "5. Complex Model: A more complex Random Forest model is constructed with additional parameters.\n",
    "\n",
    "6. Tuned Model: The complex model is further tuned with hyperparameter adjustments.\n",
    "\n",
    "7. Evaluation: Model performance is evaluated using accuracy, confusion matrix, and classification report."
   ]
  },
  {
   "cell_type": "code",
   "execution_count": 202,
   "metadata": {},
   "outputs": [],
   "source": [
    "# Import necessary libraries\n",
    "from sklearn.model_selection import train_test_split\n",
    "from sklearn.preprocessing import LabelEncoder\n",
    "from sklearn.ensemble import RandomForestClassifier\n",
    "from sklearn.metrics import classification_report, accuracy_score, confusion_matrix\n"
   ]
  },
  {
   "cell_type": "code",
   "execution_count": 203,
   "metadata": {},
   "outputs": [],
   "source": [
    "# Drop unnecessary columns\n",
    "crashes_df.drop(['phone number'], axis=1, inplace=True)"
   ]
  },
  {
   "cell_type": "code",
   "execution_count": 204,
   "metadata": {},
   "outputs": [],
   "source": [
    "# Convert categorical columns to numerical using Label Encoding\n",
    "label_encoder = LabelEncoder()\n",
    "categorical_columns = ['state', 'international plan', 'voice mail plan']\n",
    "for col in categorical_columns:\n",
    "    crashes_df[col] = label_encoder.fit_transform(crashes_df[col])\n"
   ]
  },
  {
   "cell_type": "code",
   "execution_count": 205,
   "metadata": {},
   "outputs": [],
   "source": [
    "# Split the data into features (X) and target variable (y)\n",
    "X = crashes_df.drop('churn', axis=1)\n",
    "y = crashes_df['churn']"
   ]
  },
  {
   "cell_type": "code",
   "execution_count": 206,
   "metadata": {},
   "outputs": [],
   "source": [
    "# Split the data into training and testing sets\n",
    "X_train, X_test, y_train, y_test = train_test_split(X, y, test_size=0.2, random_state=42)\n"
   ]
  },
  {
   "cell_type": "code",
   "execution_count": 207,
   "metadata": {},
   "outputs": [
    {
     "data": {
      "text/html": [
       "<style>#sk-container-id-13 {color: black;}#sk-container-id-13 pre{padding: 0;}#sk-container-id-13 div.sk-toggleable {background-color: white;}#sk-container-id-13 label.sk-toggleable__label {cursor: pointer;display: block;width: 100%;margin-bottom: 0;padding: 0.3em;box-sizing: border-box;text-align: center;}#sk-container-id-13 label.sk-toggleable__label-arrow:before {content: \"▸\";float: left;margin-right: 0.25em;color: #696969;}#sk-container-id-13 label.sk-toggleable__label-arrow:hover:before {color: black;}#sk-container-id-13 div.sk-estimator:hover label.sk-toggleable__label-arrow:before {color: black;}#sk-container-id-13 div.sk-toggleable__content {max-height: 0;max-width: 0;overflow: hidden;text-align: left;background-color: #f0f8ff;}#sk-container-id-13 div.sk-toggleable__content pre {margin: 0.2em;color: black;border-radius: 0.25em;background-color: #f0f8ff;}#sk-container-id-13 input.sk-toggleable__control:checked~div.sk-toggleable__content {max-height: 200px;max-width: 100%;overflow: auto;}#sk-container-id-13 input.sk-toggleable__control:checked~label.sk-toggleable__label-arrow:before {content: \"▾\";}#sk-container-id-13 div.sk-estimator input.sk-toggleable__control:checked~label.sk-toggleable__label {background-color: #d4ebff;}#sk-container-id-13 div.sk-label input.sk-toggleable__control:checked~label.sk-toggleable__label {background-color: #d4ebff;}#sk-container-id-13 input.sk-hidden--visually {border: 0;clip: rect(1px 1px 1px 1px);clip: rect(1px, 1px, 1px, 1px);height: 1px;margin: -1px;overflow: hidden;padding: 0;position: absolute;width: 1px;}#sk-container-id-13 div.sk-estimator {font-family: monospace;background-color: #f0f8ff;border: 1px dotted black;border-radius: 0.25em;box-sizing: border-box;margin-bottom: 0.5em;}#sk-container-id-13 div.sk-estimator:hover {background-color: #d4ebff;}#sk-container-id-13 div.sk-parallel-item::after {content: \"\";width: 100%;border-bottom: 1px solid gray;flex-grow: 1;}#sk-container-id-13 div.sk-label:hover label.sk-toggleable__label {background-color: #d4ebff;}#sk-container-id-13 div.sk-serial::before {content: \"\";position: absolute;border-left: 1px solid gray;box-sizing: border-box;top: 0;bottom: 0;left: 50%;z-index: 0;}#sk-container-id-13 div.sk-serial {display: flex;flex-direction: column;align-items: center;background-color: white;padding-right: 0.2em;padding-left: 0.2em;position: relative;}#sk-container-id-13 div.sk-item {position: relative;z-index: 1;}#sk-container-id-13 div.sk-parallel {display: flex;align-items: stretch;justify-content: center;background-color: white;position: relative;}#sk-container-id-13 div.sk-item::before, #sk-container-id-13 div.sk-parallel-item::before {content: \"\";position: absolute;border-left: 1px solid gray;box-sizing: border-box;top: 0;bottom: 0;left: 50%;z-index: -1;}#sk-container-id-13 div.sk-parallel-item {display: flex;flex-direction: column;z-index: 1;position: relative;background-color: white;}#sk-container-id-13 div.sk-parallel-item:first-child::after {align-self: flex-end;width: 50%;}#sk-container-id-13 div.sk-parallel-item:last-child::after {align-self: flex-start;width: 50%;}#sk-container-id-13 div.sk-parallel-item:only-child::after {width: 0;}#sk-container-id-13 div.sk-dashed-wrapped {border: 1px dashed gray;margin: 0 0.4em 0.5em 0.4em;box-sizing: border-box;padding-bottom: 0.4em;background-color: white;}#sk-container-id-13 div.sk-label label {font-family: monospace;font-weight: bold;display: inline-block;line-height: 1.2em;}#sk-container-id-13 div.sk-label-container {text-align: center;}#sk-container-id-13 div.sk-container {/* jupyter's `normalize.less` sets `[hidden] { display: none; }` but bootstrap.min.css set `[hidden] { display: none !important; }` so we also need the `!important` here to be able to override the default hidden behavior on the sphinx rendered scikit-learn.org. See: https://github.com/scikit-learn/scikit-learn/issues/21755 */display: inline-block !important;position: relative;}#sk-container-id-13 div.sk-text-repr-fallback {display: none;}</style><div id=\"sk-container-id-13\" class=\"sk-top-container\"><div class=\"sk-text-repr-fallback\"><pre>RandomForestClassifier(random_state=42)</pre><b>In a Jupyter environment, please rerun this cell to show the HTML representation or trust the notebook. <br />On GitHub, the HTML representation is unable to render, please try loading this page with nbviewer.org.</b></div><div class=\"sk-container\" hidden><div class=\"sk-item\"><div class=\"sk-estimator sk-toggleable\"><input class=\"sk-toggleable__control sk-hidden--visually\" id=\"sk-estimator-id-13\" type=\"checkbox\" checked><label for=\"sk-estimator-id-13\" class=\"sk-toggleable__label sk-toggleable__label-arrow\">RandomForestClassifier</label><div class=\"sk-toggleable__content\"><pre>RandomForestClassifier(random_state=42)</pre></div></div></div></div></div>"
      ],
      "text/plain": [
       "RandomForestClassifier(random_state=42)"
      ]
     },
     "execution_count": 207,
     "metadata": {},
     "output_type": "execute_result"
    }
   ],
   "source": [
    "# Build a baseline Random Forest model\n",
    "rf_model = RandomForestClassifier(random_state=42)\n",
    "rf_model.fit(X_train, y_train)"
   ]
  },
  {
   "cell_type": "code",
   "execution_count": 208,
   "metadata": {},
   "outputs": [],
   "source": [
    "# Make predictions on the test set\n",
    "y_pred = rf_model.predict(X_test)"
   ]
  },
  {
   "cell_type": "code",
   "execution_count": 209,
   "metadata": {},
   "outputs": [],
   "source": [
    "# Evaluate the model\n",
    "accuracy = accuracy_score(y_test, y_pred)\n",
    "conf_matrix = confusion_matrix(y_test, y_pred)\n",
    "class_report = classification_report(y_test, y_pred)"
   ]
  },
  {
   "cell_type": "code",
   "execution_count": 210,
   "metadata": {},
   "outputs": [
    {
     "name": "stdout",
     "output_type": "stream",
     "text": [
      "Accuracy: 0.95\n",
      "\n",
      "Confusion Matrix:\n",
      "[[561   5]\n",
      " [ 29  72]]\n",
      "\n",
      "Classification Report:\n",
      "              precision    recall  f1-score   support\n",
      "\n",
      "       False       0.95      0.99      0.97       566\n",
      "        True       0.94      0.71      0.81       101\n",
      "\n",
      "    accuracy                           0.95       667\n",
      "   macro avg       0.94      0.85      0.89       667\n",
      "weighted avg       0.95      0.95      0.95       667\n",
      "\n"
     ]
    }
   ],
   "source": [
    "# Print the evaluation metrics\n",
    "print(f\"Accuracy: {accuracy:.2f}\")\n",
    "print(\"\\nConfusion Matrix:\")\n",
    "print(conf_matrix)\n",
    "print(\"\\nClassification Report:\")\n",
    "print(class_report)"
   ]
  },
  {
   "cell_type": "code",
   "execution_count": 211,
   "metadata": {},
   "outputs": [
    {
     "data": {
      "text/html": [
       "<style>#sk-container-id-14 {color: black;}#sk-container-id-14 pre{padding: 0;}#sk-container-id-14 div.sk-toggleable {background-color: white;}#sk-container-id-14 label.sk-toggleable__label {cursor: pointer;display: block;width: 100%;margin-bottom: 0;padding: 0.3em;box-sizing: border-box;text-align: center;}#sk-container-id-14 label.sk-toggleable__label-arrow:before {content: \"▸\";float: left;margin-right: 0.25em;color: #696969;}#sk-container-id-14 label.sk-toggleable__label-arrow:hover:before {color: black;}#sk-container-id-14 div.sk-estimator:hover label.sk-toggleable__label-arrow:before {color: black;}#sk-container-id-14 div.sk-toggleable__content {max-height: 0;max-width: 0;overflow: hidden;text-align: left;background-color: #f0f8ff;}#sk-container-id-14 div.sk-toggleable__content pre {margin: 0.2em;color: black;border-radius: 0.25em;background-color: #f0f8ff;}#sk-container-id-14 input.sk-toggleable__control:checked~div.sk-toggleable__content {max-height: 200px;max-width: 100%;overflow: auto;}#sk-container-id-14 input.sk-toggleable__control:checked~label.sk-toggleable__label-arrow:before {content: \"▾\";}#sk-container-id-14 div.sk-estimator input.sk-toggleable__control:checked~label.sk-toggleable__label {background-color: #d4ebff;}#sk-container-id-14 div.sk-label input.sk-toggleable__control:checked~label.sk-toggleable__label {background-color: #d4ebff;}#sk-container-id-14 input.sk-hidden--visually {border: 0;clip: rect(1px 1px 1px 1px);clip: rect(1px, 1px, 1px, 1px);height: 1px;margin: -1px;overflow: hidden;padding: 0;position: absolute;width: 1px;}#sk-container-id-14 div.sk-estimator {font-family: monospace;background-color: #f0f8ff;border: 1px dotted black;border-radius: 0.25em;box-sizing: border-box;margin-bottom: 0.5em;}#sk-container-id-14 div.sk-estimator:hover {background-color: #d4ebff;}#sk-container-id-14 div.sk-parallel-item::after {content: \"\";width: 100%;border-bottom: 1px solid gray;flex-grow: 1;}#sk-container-id-14 div.sk-label:hover label.sk-toggleable__label {background-color: #d4ebff;}#sk-container-id-14 div.sk-serial::before {content: \"\";position: absolute;border-left: 1px solid gray;box-sizing: border-box;top: 0;bottom: 0;left: 50%;z-index: 0;}#sk-container-id-14 div.sk-serial {display: flex;flex-direction: column;align-items: center;background-color: white;padding-right: 0.2em;padding-left: 0.2em;position: relative;}#sk-container-id-14 div.sk-item {position: relative;z-index: 1;}#sk-container-id-14 div.sk-parallel {display: flex;align-items: stretch;justify-content: center;background-color: white;position: relative;}#sk-container-id-14 div.sk-item::before, #sk-container-id-14 div.sk-parallel-item::before {content: \"\";position: absolute;border-left: 1px solid gray;box-sizing: border-box;top: 0;bottom: 0;left: 50%;z-index: -1;}#sk-container-id-14 div.sk-parallel-item {display: flex;flex-direction: column;z-index: 1;position: relative;background-color: white;}#sk-container-id-14 div.sk-parallel-item:first-child::after {align-self: flex-end;width: 50%;}#sk-container-id-14 div.sk-parallel-item:last-child::after {align-self: flex-start;width: 50%;}#sk-container-id-14 div.sk-parallel-item:only-child::after {width: 0;}#sk-container-id-14 div.sk-dashed-wrapped {border: 1px dashed gray;margin: 0 0.4em 0.5em 0.4em;box-sizing: border-box;padding-bottom: 0.4em;background-color: white;}#sk-container-id-14 div.sk-label label {font-family: monospace;font-weight: bold;display: inline-block;line-height: 1.2em;}#sk-container-id-14 div.sk-label-container {text-align: center;}#sk-container-id-14 div.sk-container {/* jupyter's `normalize.less` sets `[hidden] { display: none; }` but bootstrap.min.css set `[hidden] { display: none !important; }` so we also need the `!important` here to be able to override the default hidden behavior on the sphinx rendered scikit-learn.org. See: https://github.com/scikit-learn/scikit-learn/issues/21755 */display: inline-block !important;position: relative;}#sk-container-id-14 div.sk-text-repr-fallback {display: none;}</style><div id=\"sk-container-id-14\" class=\"sk-top-container\"><div class=\"sk-text-repr-fallback\"><pre>RandomForestClassifier(max_depth=10, random_state=42)</pre><b>In a Jupyter environment, please rerun this cell to show the HTML representation or trust the notebook. <br />On GitHub, the HTML representation is unable to render, please try loading this page with nbviewer.org.</b></div><div class=\"sk-container\" hidden><div class=\"sk-item\"><div class=\"sk-estimator sk-toggleable\"><input class=\"sk-toggleable__control sk-hidden--visually\" id=\"sk-estimator-id-14\" type=\"checkbox\" checked><label for=\"sk-estimator-id-14\" class=\"sk-toggleable__label sk-toggleable__label-arrow\">RandomForestClassifier</label><div class=\"sk-toggleable__content\"><pre>RandomForestClassifier(max_depth=10, random_state=42)</pre></div></div></div></div></div>"
      ],
      "text/plain": [
       "RandomForestClassifier(max_depth=10, random_state=42)"
      ]
     },
     "execution_count": 211,
     "metadata": {},
     "output_type": "execute_result"
    }
   ],
   "source": [
    "# Build a more complex Random Forest model\n",
    "rf_complex_model = RandomForestClassifier(n_estimators=100, max_depth=10, random_state=42)\n",
    "rf_complex_model.fit(X_train, y_train)"
   ]
  },
  {
   "cell_type": "code",
   "execution_count": 212,
   "metadata": {},
   "outputs": [],
   "source": [
    "# Make predictions on the test set\n",
    "y_pred_complex = rf_complex_model.predict(X_test)"
   ]
  },
  {
   "cell_type": "code",
   "execution_count": 213,
   "metadata": {},
   "outputs": [],
   "source": [
    "# Evaluate the more complex model\n",
    "accuracy_complex = accuracy_score(y_test, y_pred_complex)\n",
    "conf_matrix_complex = confusion_matrix(y_test, y_pred_complex)\n",
    "class_report_complex = classification_report(y_test, y_pred_complex)"
   ]
  },
  {
   "cell_type": "code",
   "execution_count": 214,
   "metadata": {},
   "outputs": [
    {
     "name": "stdout",
     "output_type": "stream",
     "text": [
      "More Complex Model:\n",
      "Accuracy: 0.94\n",
      "\n",
      "Confusion Matrix:\n",
      "[[562   4]\n",
      " [ 33  68]]\n",
      "\n",
      "Classification Report:\n",
      "              precision    recall  f1-score   support\n",
      "\n",
      "       False       0.94      0.99      0.97       566\n",
      "        True       0.94      0.67      0.79       101\n",
      "\n",
      "    accuracy                           0.94       667\n",
      "   macro avg       0.94      0.83      0.88       667\n",
      "weighted avg       0.94      0.94      0.94       667\n",
      "\n"
     ]
    }
   ],
   "source": [
    "# Print the evaluation metrics for the more complex model\n",
    "print(\"More Complex Model:\")\n",
    "print(f\"Accuracy: {accuracy_complex:.2f}\")\n",
    "print(\"\\nConfusion Matrix:\")\n",
    "print(conf_matrix_complex)\n",
    "print(\"\\nClassification Report:\")\n",
    "print(class_report_complex)"
   ]
  },
  {
   "cell_type": "code",
   "execution_count": 215,
   "metadata": {},
   "outputs": [
    {
     "data": {
      "text/html": [
       "<style>#sk-container-id-15 {color: black;}#sk-container-id-15 pre{padding: 0;}#sk-container-id-15 div.sk-toggleable {background-color: white;}#sk-container-id-15 label.sk-toggleable__label {cursor: pointer;display: block;width: 100%;margin-bottom: 0;padding: 0.3em;box-sizing: border-box;text-align: center;}#sk-container-id-15 label.sk-toggleable__label-arrow:before {content: \"▸\";float: left;margin-right: 0.25em;color: #696969;}#sk-container-id-15 label.sk-toggleable__label-arrow:hover:before {color: black;}#sk-container-id-15 div.sk-estimator:hover label.sk-toggleable__label-arrow:before {color: black;}#sk-container-id-15 div.sk-toggleable__content {max-height: 0;max-width: 0;overflow: hidden;text-align: left;background-color: #f0f8ff;}#sk-container-id-15 div.sk-toggleable__content pre {margin: 0.2em;color: black;border-radius: 0.25em;background-color: #f0f8ff;}#sk-container-id-15 input.sk-toggleable__control:checked~div.sk-toggleable__content {max-height: 200px;max-width: 100%;overflow: auto;}#sk-container-id-15 input.sk-toggleable__control:checked~label.sk-toggleable__label-arrow:before {content: \"▾\";}#sk-container-id-15 div.sk-estimator input.sk-toggleable__control:checked~label.sk-toggleable__label {background-color: #d4ebff;}#sk-container-id-15 div.sk-label input.sk-toggleable__control:checked~label.sk-toggleable__label {background-color: #d4ebff;}#sk-container-id-15 input.sk-hidden--visually {border: 0;clip: rect(1px 1px 1px 1px);clip: rect(1px, 1px, 1px, 1px);height: 1px;margin: -1px;overflow: hidden;padding: 0;position: absolute;width: 1px;}#sk-container-id-15 div.sk-estimator {font-family: monospace;background-color: #f0f8ff;border: 1px dotted black;border-radius: 0.25em;box-sizing: border-box;margin-bottom: 0.5em;}#sk-container-id-15 div.sk-estimator:hover {background-color: #d4ebff;}#sk-container-id-15 div.sk-parallel-item::after {content: \"\";width: 100%;border-bottom: 1px solid gray;flex-grow: 1;}#sk-container-id-15 div.sk-label:hover label.sk-toggleable__label {background-color: #d4ebff;}#sk-container-id-15 div.sk-serial::before {content: \"\";position: absolute;border-left: 1px solid gray;box-sizing: border-box;top: 0;bottom: 0;left: 50%;z-index: 0;}#sk-container-id-15 div.sk-serial {display: flex;flex-direction: column;align-items: center;background-color: white;padding-right: 0.2em;padding-left: 0.2em;position: relative;}#sk-container-id-15 div.sk-item {position: relative;z-index: 1;}#sk-container-id-15 div.sk-parallel {display: flex;align-items: stretch;justify-content: center;background-color: white;position: relative;}#sk-container-id-15 div.sk-item::before, #sk-container-id-15 div.sk-parallel-item::before {content: \"\";position: absolute;border-left: 1px solid gray;box-sizing: border-box;top: 0;bottom: 0;left: 50%;z-index: -1;}#sk-container-id-15 div.sk-parallel-item {display: flex;flex-direction: column;z-index: 1;position: relative;background-color: white;}#sk-container-id-15 div.sk-parallel-item:first-child::after {align-self: flex-end;width: 50%;}#sk-container-id-15 div.sk-parallel-item:last-child::after {align-self: flex-start;width: 50%;}#sk-container-id-15 div.sk-parallel-item:only-child::after {width: 0;}#sk-container-id-15 div.sk-dashed-wrapped {border: 1px dashed gray;margin: 0 0.4em 0.5em 0.4em;box-sizing: border-box;padding-bottom: 0.4em;background-color: white;}#sk-container-id-15 div.sk-label label {font-family: monospace;font-weight: bold;display: inline-block;line-height: 1.2em;}#sk-container-id-15 div.sk-label-container {text-align: center;}#sk-container-id-15 div.sk-container {/* jupyter's `normalize.less` sets `[hidden] { display: none; }` but bootstrap.min.css set `[hidden] { display: none !important; }` so we also need the `!important` here to be able to override the default hidden behavior on the sphinx rendered scikit-learn.org. See: https://github.com/scikit-learn/scikit-learn/issues/21755 */display: inline-block !important;position: relative;}#sk-container-id-15 div.sk-text-repr-fallback {display: none;}</style><div id=\"sk-container-id-15\" class=\"sk-top-container\"><div class=\"sk-text-repr-fallback\"><pre>RandomForestClassifier(max_depth=15, min_samples_split=5, n_estimators=200,\n",
       "                       random_state=42)</pre><b>In a Jupyter environment, please rerun this cell to show the HTML representation or trust the notebook. <br />On GitHub, the HTML representation is unable to render, please try loading this page with nbviewer.org.</b></div><div class=\"sk-container\" hidden><div class=\"sk-item\"><div class=\"sk-estimator sk-toggleable\"><input class=\"sk-toggleable__control sk-hidden--visually\" id=\"sk-estimator-id-15\" type=\"checkbox\" checked><label for=\"sk-estimator-id-15\" class=\"sk-toggleable__label sk-toggleable__label-arrow\">RandomForestClassifier</label><div class=\"sk-toggleable__content\"><pre>RandomForestClassifier(max_depth=15, min_samples_split=5, n_estimators=200,\n",
       "                       random_state=42)</pre></div></div></div></div></div>"
      ],
      "text/plain": [
       "RandomForestClassifier(max_depth=15, min_samples_split=5, n_estimators=200,\n",
       "                       random_state=42)"
      ]
     },
     "execution_count": 215,
     "metadata": {},
     "output_type": "execute_result"
    }
   ],
   "source": [
    "# Build a version of the more complex model with tuned hyperparameters\n",
    "rf_tuned_model = RandomForestClassifier(n_estimators=200, max_depth=15, min_samples_split=5, random_state=42)\n",
    "rf_tuned_model.fit(X_train, y_train)"
   ]
  },
  {
   "cell_type": "code",
   "execution_count": 216,
   "metadata": {},
   "outputs": [],
   "source": [
    "# Make predictions on the test set\n",
    "y_pred_tuned = rf_tuned_model.predict(X_test)"
   ]
  },
  {
   "cell_type": "code",
   "execution_count": 217,
   "metadata": {},
   "outputs": [],
   "source": [
    "# Evaluate the model with tuned hyperparameters\n",
    "accuracy_tuned = accuracy_score(y_test, y_pred_tuned)\n",
    "conf_matrix_tuned = confusion_matrix(y_test, y_pred_tuned)\n",
    "class_report_tuned = classification_report(y_test, y_pred_tuned)"
   ]
  },
  {
   "cell_type": "code",
   "execution_count": 218,
   "metadata": {},
   "outputs": [
    {
     "name": "stdout",
     "output_type": "stream",
     "text": [
      "\n",
      "Model with Tuned Hyperparameters:\n",
      "Accuracy: 0.94\n",
      "\n",
      "Confusion Matrix:\n",
      "[[559   7]\n",
      " [ 30  71]]\n",
      "\n",
      "Classification Report:\n",
      "              precision    recall  f1-score   support\n",
      "\n",
      "       False       0.95      0.99      0.97       566\n",
      "        True       0.91      0.70      0.79       101\n",
      "\n",
      "    accuracy                           0.94       667\n",
      "   macro avg       0.93      0.85      0.88       667\n",
      "weighted avg       0.94      0.94      0.94       667\n",
      "\n"
     ]
    }
   ],
   "source": [
    "# Print the evaluation metrics for the tuned model\n",
    "print(\"\\nModel with Tuned Hyperparameters:\")\n",
    "print(f\"Accuracy: {accuracy_tuned:.2f}\")\n",
    "print(\"\\nConfusion Matrix:\")\n",
    "print(conf_matrix_tuned)\n",
    "print(\"\\nClassification Report:\")\n",
    "print(class_report_tuned)"
   ]
  },
  {
   "cell_type": "markdown",
   "metadata": {},
   "source": [
    "## Feature Importance\n",
    "Feature importances are extracted from the tuned Random Forest model to identify the top features influencing churn prediction. A bar plot visualizes the top 10 important features."
   ]
  },
  {
   "cell_type": "code",
   "execution_count": 219,
   "metadata": {},
   "outputs": [],
   "source": [
    "# Extract feature importances from the tuned Random Forest model\n",
    "feature_importances = rf_tuned_model.feature_importances_"
   ]
  },
  {
   "cell_type": "code",
   "execution_count": 220,
   "metadata": {},
   "outputs": [],
   "source": [
    "# Create a DataFrame to display feature importances\n",
    "feature_importance_df = pd.DataFrame({\n",
    "    'Feature': X_train.columns,\n",
    "    'Importance': feature_importances\n",
    "})\n"
   ]
  },
  {
   "cell_type": "code",
   "execution_count": 221,
   "metadata": {},
   "outputs": [],
   "source": [
    "# Sort the features by importance in descending order\n",
    "feature_importance_df = feature_importance_df.sort_values(by='Importance', ascending=False)\n"
   ]
  },
  {
   "cell_type": "code",
   "execution_count": 222,
   "metadata": {},
   "outputs": [
    {
     "name": "stdout",
     "output_type": "stream",
     "text": [
      "Top Features:\n",
      "                   Feature  Importance\n",
      "6        total day minutes    0.142269\n",
      "8         total day charge    0.138245\n",
      "18  customer service calls    0.132105\n",
      "3       international plan    0.087165\n",
      "11        total eve charge    0.066324\n",
      "9        total eve minutes    0.063741\n",
      "16        total intl calls    0.048529\n",
      "15      total intl minutes    0.042768\n",
      "17       total intl charge    0.038253\n",
      "12     total night minutes    0.033209\n"
     ]
    }
   ],
   "source": [
    "# Display the top features\n",
    "print(\"Top Features:\")\n",
    "print(feature_importance_df.head(10))"
   ]
  },
  {
   "cell_type": "code",
   "execution_count": 223,
   "metadata": {},
   "outputs": [
    {
     "data": {
      "image/png": "[encoded data removed]",
      "text/plain": [
       "<Figure size 1200x800 with 1 Axes>"
      ]
     },
     "metadata": {},
     "output_type": "display_data"
    }
   ],
   "source": [
    "# Plot the top features\n",
    "plt.figure(figsize=(12, 8))\n",
    "sns.barplot(x='Importance', y='Feature', data=feature_importance_df.head(10), palette='viridis')\n",
    "plt.title('Top 10 Important Features')\n",
    "plt.show()\n"
   ]
  },
  {
   "cell_type": "code",
   "execution_count": 224,
   "metadata": {},
   "outputs": [],
   "source": [
    "# Apply Label Encoding to categorical columns in new_data\n",
    "label_encoder_mapping = {'state': label_encoder_state, 'international plan': label_encoder_intl_plan, 'voice mail plan': label_encoder_vm_plan}\n",
    "\n",
    "for col, label_encoder in label_encoder_mapping.items():\n",
    "    if col in new_data.columns:\n",
    "        try:\n",
    "            new_data[col] = label_encoder.transform(new_data[col])\n",
    "        except ValueError as e:\n",
    "            print(f\"Error encoding column '{col}': {e}\")\n",
    "\n",
    "# Perform one-hot encoding for categorical features\n",
    "new_data_encoded = pd.get_dummies(new_data, columns=['state', 'international plan', 'voice mail plan'])\n"
   ]
  },
  {
   "cell_type": "code",
   "execution_count": 225,
   "metadata": {},
   "outputs": [],
   "source": [
    "# Features used during training\n",
    "features_used_in_training = ['state', 'account length', 'area code', 'international plan', 'voice mail plan', 'number vmail messages',\n",
    "                              'total day minutes', 'total day calls', 'total day charge', 'total eve minutes', 'total eve calls',\n",
    "                              'total eve charge', 'total night minutes', 'total night calls', 'total night charge',\n",
    "                              'total intl minutes', 'total intl calls', 'total intl charge', 'customer service calls']\n",
    "\n"
   ]
  },
  {
   "cell_type": "code",
   "execution_count": 226,
   "metadata": {},
   "outputs": [],
   "source": [
    "# Example new data\n",
    "new_data = pd.DataFrame({\n",
    "    'state': ['NY', 'CA'],\n",
    "    'account length': [120, 200],\n",
    "    'area code': [415, 408],\n",
    "    'international plan': ['yes', 'no'],\n",
    "    'voice mail plan': ['no', 'yes'],\n",
    "    'number vmail messages': [0, 25],\n",
    "    'total day minutes': [150, 180],\n",
    "    'total day calls': [80, 100],\n",
    "    'total day charge': [30, 36],\n",
    "    'total eve minutes': [200, 220],\n",
    "    'total eve calls': [90, 110],\n",
    "    'total eve charge': [20, 22],\n",
    "    'total night minutes': [100, 120],\n",
    "    'total night calls': [50, 60],\n",
    "    'total night charge': [10, 12],\n",
    "    'total intl minutes': [15, 20],\n",
    "    'total intl calls': [3, 4],\n",
    "    'total intl charge': [4, 5],\n",
    "    'customer service calls': [2, 1],\n",
    "})"
   ]
  },
  {
   "cell_type": "code",
   "execution_count": 227,
   "metadata": {},
   "outputs": [
    {
     "name": "stdout",
     "output_type": "stream",
     "text": [
      "Missing features in new_data: {'voice mail plan', 'state', 'international plan'}\n"
     ]
    }
   ],
   "source": [
    "# Perform one-hot encoding for categorical features\n",
    "new_data_encoded = pd.get_dummies(new_data, columns=['state', 'international plan', 'voice mail plan'])\n",
    "\n",
    "# Check for missing features\n",
    "missing_features = set(features_used_in_training) - set(new_data_encoded.columns)\n",
    "\n",
    "if missing_features:\n",
    "    print(f\"Missing features in new_data: {missing_features}\")\n",
    "else:\n",
    "    # Make predictions using the tuned Random Forest model\n",
    "    new_data_predictions = rf_tuned_model.predict(new_data_encoded)\n",
    "\n",
    "    # Display the predictions\n",
    "    print(\"Predictions on New Data:\")\n",
    "    print(new_data_predictions)\n",
    "\n",
    "    # Provide recommendations based on the model's insights\n",
    "    # Adjust recommendations based on your understanding of the problem\n",
    "    if any(new_data_predictions):\n",
    "        print(\"Recommendation: Increased likelihood of churn. Consider targeted retention strategies.\")\n",
    "    else:\n",
    "        print(\"Recommendation: Low likelihood of churn. Focus on customer satisfaction and loyalty programs.\")"
   ]
  },
  {
   "cell_type": "code",
   "execution_count": 228,
   "metadata": {},
   "outputs": [],
   "source": [
    "import pandas as pd\n",
    "\n",
    "# Example new data\n",
    "new_data = pd.DataFrame({\n",
    "    'state': ['NY', 'CA'],\n",
    "    'account length': [120, 200],\n",
    "    'area code': [415, 408],\n",
    "    'international plan': ['yes', 'no'],\n",
    "    'voice mail plan': ['no', 'yes'],\n",
    "    'number vmail messages': [0, 25],\n",
    "    'total day minutes': [150, 180],\n",
    "    'total day calls': [80, 100],\n",
    "    'total day charge': [30, 36],\n",
    "    'total eve minutes': [200, 220],\n",
    "    'total eve calls': [90, 110],\n",
    "    'total eve charge': [20, 22],\n",
    "    'total night minutes': [100, 120],\n",
    "    'total night calls': [50, 60],\n",
    "    'total night charge': [10, 12],\n",
    "    'total intl minutes': [15, 20],\n",
    "    'total intl calls': [3, 4],\n",
    "    'total intl charge': [4, 5],\n",
    "    'customer service calls': [2, 1],\n",
    "    'churn': [False, False],  # Placeholder for the target variable (churn)\n",
    "})"
   ]
  },
  {
   "cell_type": "code",
   "execution_count": 229,
   "metadata": {},
   "outputs": [
    {
     "name": "stdout",
     "output_type": "stream",
     "text": [
      "Predictions on New Data:\n",
      "[False False]\n",
      "Recommendation: Low likelihood of churn. Focus on customer satisfaction and loyalty programs.\n"
     ]
    }
   ],
   "source": [
    "# Perform one-hot encoding for categorical features\n",
    "new_data_encoded = pd.get_dummies(new_data, columns=['state', 'international plan', 'voice mail plan'])\n",
    "\n",
    "# Align the new data columns with the columns used during training\n",
    "new_data_aligned = new_data_encoded.reindex(columns=features_used_in_training, fill_value=0)\n",
    "\n",
    "# Make predictions using the tuned Random Forest model\n",
    "new_data_predictions = rf_tuned_model.predict(new_data_aligned)\n",
    "\n",
    "# Display the predictions\n",
    "print(\"Predictions on New Data:\")\n",
    "print(new_data_predictions)\n",
    "\n",
    "# Provide recommendations based on the model's insights\n",
    "# Adjust recommendations based on your understanding of the problem\n",
    "if any(new_data_predictions):\n",
    "    print(\"Recommendation: Increased likelihood of churn. Consider targeted retention strategies.\")\n",
    "else:\n",
    "    print(\"Recommendation: Low likelihood of churn. Focus on customer satisfaction and loyalty programs.\")"
   ]
  },
  {
   "cell_type": "code",
   "execution_count": 230,
   "metadata": {},
   "outputs": [
    {
     "name": "stdout",
     "output_type": "stream",
     "text": [
      "Shape of new_data_aligned: (2, 19)\n",
      "Contents of new_data_aligned:\n",
      "   state  account length  area code  international plan  voice mail plan  \\\n",
      "0      0             120        415                   0                0   \n",
      "1      0             200        408                   0                0   \n",
      "\n",
      "   number vmail messages  total day minutes  total day calls  \\\n",
      "0                      0                150               80   \n",
      "1                     25                180              100   \n",
      "\n",
      "   total day charge  total eve minutes  total eve calls  total eve charge  \\\n",
      "0                30                200               90                20   \n",
      "1                36                220              110                22   \n",
      "\n",
      "   total night minutes  total night calls  total night charge  \\\n",
      "0                  100                 50                  10   \n",
      "1                  120                 60                  12   \n",
      "\n",
      "   total intl minutes  total intl calls  total intl charge  \\\n",
      "0                  15                 3                  4   \n",
      "1                  20                 4                  5   \n",
      "\n",
      "   customer service calls  \n",
      "0                       2  \n",
      "1                       1  \n"
     ]
    }
   ],
   "source": [
    "# Print shape and contents of new_data_aligned\n",
    "print(\"Shape of new_data_aligned:\", new_data_aligned.shape)\n",
    "print(\"Contents of new_data_aligned:\")\n",
    "print(new_data_aligned.head())\n",
    "\n"
   ]
  },
  {
   "cell_type": "markdown",
   "metadata": {},
   "source": [
    "## New Data Predictions\n",
    "A scenario is presented where predictions are made on new data. The steps include encoding the new data, aligning the columns with the training data, making predictions, and providing recommendations based on the model's insights."
   ]
  },
  {
   "cell_type": "code",
   "execution_count": 231,
   "metadata": {},
   "outputs": [
    {
     "name": "stdout",
     "output_type": "stream",
     "text": [
      "Missing features in new_data_encoded: {'voice mail plan', 'state', 'international plan'}\n"
     ]
    }
   ],
   "source": [
    "# One-hot encode categorical columns in new_data\n",
    "new_data_encoded = pd.get_dummies(new_data, columns=categorical_columns)\n",
    "\n",
    "# Ensure new_data_encoded has the same columns as the training data\n",
    "missing_features = set(features_used_in_training) - set(new_data_encoded.columns)\n",
    "\n",
    "# Check for missing features in new_data_encoded\n",
    "if missing_features:\n",
    "    print(f\"Missing features in new_data_encoded: {missing_features}\")\n",
    "else:\n",
    "    # Align the columns to ensure consistency\n",
    "    new_data_aligned = new_data_encoded.reindex(columns=features_used_in_training, fill_value=0)\n",
    "\n",
    "    # Make predictions using the tuned Random Forest model\n",
    "    new_data_predictions = rf_tuned_model.predict(new_data_aligned)\n",
    "\n",
    "    # Display the predictions\n",
    "    print(\"Predictions on New Data:\")\n",
    "    print(new_data_predictions)\n",
    "\n",
    "    # Provide recommendations based on the model's insights\n",
    "    # Adjust recommendations based on your understanding of the problem\n",
    "    if any(new_data_predictions):\n",
    "        print(\"Recommendation: Increased likelihood of churn. Consider targeted retention strategies.\")\n",
    "    else:\n",
    "        print(\"Recommendation: Low likelihood of churn. Focus on customer satisfaction and loyalty programs.\")\n"
   ]
  },
  {
   "cell_type": "markdown",
   "metadata": {},
   "source": [
    "## Handling Missing Features\n",
    "An additional step checks for missing features in the new data. If any features used during training are missing, the process identifies and addresses the missing features, ensuring consistency between training and new data."
   ]
  },
  {
   "cell_type": "code",
   "execution_count": 232,
   "metadata": {},
   "outputs": [
    {
     "name": "stdout",
     "output_type": "stream",
     "text": [
      "Missing features in new_data_encoded: {'voice mail plan', 'state', 'international plan'}\n"
     ]
    }
   ],
   "source": [
    "# Check the features used during training\n",
    "features_used_in_training = X_train.columns.tolist()\n",
    "\n",
    "# One-hot encode categorical columns in new_data\n",
    "new_data_encoded = pd.get_dummies(new_data, columns=categorical_columns)\n",
    "\n",
    "# Ensure new_data_encoded has the same columns as the training data\n",
    "missing_features = set(features_used_in_training) - set(new_data_encoded.columns)\n",
    "\n",
    "# Check for missing features in new_data_encoded\n",
    "if missing_features:\n",
    "    print(f\"Missing features in new_data_encoded: {missing_features}\")\n",
    "else:\n",
    "    # Align the columns to ensure consistency\n",
    "    new_data_aligned = new_data_encoded.reindex(columns=features_used_in_training, fill_value=0)\n",
    "\n",
    "    # Make predictions using the tuned Random Forest model\n",
    "    new_data_predictions = rf_tuned_model.predict(new_data_aligned)\n",
    "\n",
    "    # Display the predictions\n",
    "    print(\"Predictions on New Data:\")\n",
    "    print(new_data_predictions)\n",
    "\n",
    "    # Provide recommendations based on the model's insights\n",
    "    # Adjust recommendations based on your understanding of the problem\n",
    "    if any(new_data_predictions):\n",
    "        print(\"Recommendation: Increased likelihood of churn. Consider targeted retention strategies.\")\n",
    "    else:\n",
    "        print(\"Recommendation: Low likelihood of churn. Focus on customer satisfaction and loyalty programs.\")\n"
   ]
  },
  {
   "cell_type": "code",
   "execution_count": 233,
   "metadata": {},
   "outputs": [],
   "source": [
    "# Example during training phase\n",
    "from sklearn.preprocessing import LabelEncoder\n",
    "\n",
    "# Initialize Label Encoders\n",
    "label_encoder_state = LabelEncoder()\n",
    "label_encoder_intl_plan = LabelEncoder()\n",
    "label_encoder_vm_plan = LabelEncoder()\n",
    "\n",
    "# Fit and transform categorical columns\n",
    "crashes_df['state'] = label_encoder_state.fit_transform(crashes_df['state'])\n",
    "crashes_df['international plan'] = label_encoder_intl_plan.fit_transform(crashes_df['international plan'])\n",
    "crashes_df['voice mail plan'] = label_encoder_vm_plan.fit_transform(crashes_df['voice mail plan'])\n"
   ]
  },
  {
   "cell_type": "code",
   "execution_count": 234,
   "metadata": {},
   "outputs": [
    {
     "name": "stdout",
     "output_type": "stream",
     "text": [
      "Predictions on New Data:\n",
      "[False False]\n",
      "Recommendation: Low likelihood of churn. Focus on customer satisfaction and loyalty programs.\n"
     ]
    }
   ],
   "source": [
    "# Apply Label Encoding to the 'state' column in new_data\n",
    "new_data_aligned['state'] = label_encoder_state.transform(new_data_aligned['state'])\n",
    "\n",
    "# Make predictions using the tuned Random Forest model\n",
    "new_data_predictions = rf_tuned_model.predict(new_data_aligned)\n",
    "\n",
    "# Display the predictions\n",
    "print(\"Predictions on New Data:\")\n",
    "print(new_data_predictions)\n",
    "\n",
    "# Provide recommendations based on the model's insights\n",
    "# Adjust recommendations based on your understanding of the problem\n",
    "if any(new_data_predictions):\n",
    "    print(\"Recommendation: Increased likelihood of churn. Consider targeted retention strategies.\")\n",
    "else:\n",
    "    print(\"Recommendation: Low likelihood of churn. Focus on customer satisfaction and loyalty programs.\")\n"
   ]
  },
  {
   "cell_type": "code",
   "execution_count": 235,
   "metadata": {},
   "outputs": [
    {
     "name": "stdout",
     "output_type": "stream",
     "text": [
      "Missing features in new_data_encoded: {'voice mail plan', 'state', 'international plan'}\n",
      "New unique values in 'voice mail plan': {'yes', 'no'}\n",
      "New unique values in 'state': {'NY', 'CA'}\n",
      "New unique values in 'international plan': {'yes', 'no'}\n"
     ]
    }
   ],
   "source": [
    "# One-hot encode categorical columns in new_data\n",
    "new_data_encoded = pd.get_dummies(new_data, columns=categorical_columns)\n",
    "\n",
    "# Ensure new_data_encoded has the same columns as the training data\n",
    "missing_features = set(features_used_in_training) - set(new_data_encoded.columns)\n",
    "\n",
    "# Check for missing features in new_data_encoded\n",
    "if missing_features:\n",
    "    print(f\"Missing features in new_data_encoded: {missing_features}\")\n",
    "\n",
    "    # Identify the missing categorical columns\n",
    "    missing_categorical_columns = set(categorical_columns) & missing_features\n",
    "\n",
    "    # Check for new values in the missing categorical columns\n",
    "    for col in missing_categorical_columns:\n",
    "        new_values = set(new_data[col])\n",
    "        training_values = set(crashes_df[col])\n",
    "        new_unique_values = new_values - training_values\n",
    "        if new_unique_values:\n",
    "            print(f\"New unique values in '{col}': {new_unique_values}\")\n",
    "else:\n",
    "    # Align the columns to ensure consistency\n",
    "    new_data_aligned = new_data_encoded.reindex(columns=features_used_in_training, fill_value=0)\n",
    "\n",
    "    # Make predictions using the tuned Random Forest model\n",
    "    new_data_predictions = rf_tuned_model.predict(new_data_aligned)\n",
    "\n",
    "    # Display the predictions\n",
    "    print(\"Predictions on New Data:\")\n",
    "    print(new_data_predictions)\n",
    "\n",
    "    # Provide recommendations based on the model's insights\n",
    "    # Adjust recommendations based on your understanding of the problem\n",
    "    if any(new_data_predictions):\n",
    "        print(\"Recommendation: Increased likelihood of churn. Consider targeted retention strategies.\")\n",
    "    else:\n",
    "        print(\"Recommendation: Low likelihood of churn. Focus on customer satisfaction and loyalty programs.\")\n"
   ]
  },
  {
   "cell_type": "code",
   "execution_count": 236,
   "metadata": {},
   "outputs": [
    {
     "name": "stdout",
     "output_type": "stream",
     "text": [
      "Error encoding column 'state': invalid literal for int() with base 10: 'NY'\n",
      "Error encoding column 'international plan': invalid literal for int() with base 10: 'yes'\n",
      "Error encoding column 'voice mail plan': invalid literal for int() with base 10: 'no'\n",
      "Predictions on New Data:\n",
      "[False False]\n",
      "Recommendation: Low likelihood of churn. Focus on customer satisfaction and loyalty programs.\n"
     ]
    },
    {
     "name": "stderr",
     "output_type": "stream",
     "text": [
      "/tmp/ipykernel_11393/603317380.py:13: FutureWarning: elementwise comparison failed; returning scalar instead, but in the future will perform elementwise comparison\n",
      "  new_data[col] = new_data[col].apply(lambda x: label_encoder.transform([x])[0] if x in label_encoder.classes_ else default_value)\n",
      "/tmp/ipykernel_11393/603317380.py:13: FutureWarning: elementwise comparison failed; returning scalar instead, but in the future will perform elementwise comparison\n",
      "  new_data[col] = new_data[col].apply(lambda x: label_encoder.transform([x])[0] if x in label_encoder.classes_ else default_value)\n",
      "/tmp/ipykernel_11393/603317380.py:13: FutureWarning: elementwise comparison failed; returning scalar instead, but in the future will perform elementwise comparison\n",
      "  new_data[col] = new_data[col].apply(lambda x: label_encoder.transform([x])[0] if x in label_encoder.classes_ else default_value)\n"
     ]
    }
   ],
   "source": [
    "# Apply Label Encoding to categorical columns in new_data\n",
    "label_encoder_mapping = {'state': label_encoder_state, 'international plan': label_encoder_intl_plan, 'voice mail plan': label_encoder_vm_plan}\n",
    "\n",
    "for col, label_encoder in label_encoder_mapping.items():\n",
    "    if col in new_data.columns:\n",
    "        try:\n",
    "            # Use `transform` if categories are already seen, otherwise use `fit_transform`\n",
    "            new_data[col] = label_encoder.transform(new_data[col])\n",
    "        except ValueError as e:\n",
    "            print(f\"Error encoding column '{col}': {e}\")\n",
    "            # Handle unseen categories by assigning a default value or skipping the column\n",
    "            default_value = label_encoder.classes_[0]  # Assign the first class as a default\n",
    "            new_data[col] = new_data[col].apply(lambda x: label_encoder.transform([x])[0] if x in label_encoder.classes_ else default_value)\n",
    "\n",
    "# Perform one-hot encoding for categorical features\n",
    "new_data_encoded = pd.get_dummies(new_data, columns=['state', 'international plan', 'voice mail plan'])\n",
    "\n",
    "# Align the new_data columns with the columns used during training\n",
    "new_data_aligned = new_data_encoded.reindex(columns=features_used_in_training, fill_value=0)\n",
    "\n",
    "# Make predictions using the tuned Random Forest model\n",
    "new_data_predictions = rf_tuned_model.predict(new_data_aligned)\n",
    "\n",
    "# Display the predictions\n",
    "print(\"Predictions on New Data:\")\n",
    "print(new_data_predictions)\n",
    "\n",
    "# Provide recommendations based on the model's insights\n",
    "# Adjust recommendations based on your understanding of the problem\n",
    "if any(new_data_predictions):\n",
    "    print(\"Recommendation: Increased likelihood of churn. Consider targeted retention strategies.\")\n",
    "else:\n",
    "    print(\"Recommendation: Low likelihood of churn. Focus on customer satisfaction and loyalty programs.\")\n"
   ]
  },
  {
   "cell_type": "code",
   "execution_count": 237,
   "metadata": {},
   "outputs": [
    {
     "name": "stdout",
     "output_type": "stream",
     "text": [
      "Encoded New Data Aligned:\n",
      "   state  account length  area code  international plan  voice mail plan  \\\n",
      "0      0             120        415                   0                0   \n",
      "1      0             200        408                   0                0   \n",
      "\n",
      "   number vmail messages  total day minutes  total day calls  \\\n",
      "0                      0                150               80   \n",
      "1                     25                180              100   \n",
      "\n",
      "   total day charge  total eve minutes  total eve calls  total eve charge  \\\n",
      "0                30                200               90                20   \n",
      "1                36                220              110                22   \n",
      "\n",
      "   total night minutes  total night calls  total night charge  \\\n",
      "0                  100                 50                  10   \n",
      "1                  120                 60                  12   \n",
      "\n",
      "   total intl minutes  total intl calls  total intl charge  \\\n",
      "0                  15                 3                  4   \n",
      "1                  20                 4                  5   \n",
      "\n",
      "   customer service calls  \n",
      "0                       2  \n",
      "1                       1  \n",
      "\n",
      "Predictions on New Data:\n",
      "[False False]\n",
      "Recommendation: Low likelihood of churn. Focus on customer satisfaction and loyalty programs.\n"
     ]
    }
   ],
   "source": [
    "# Display the encoded new_data_aligned DataFrame\n",
    "print(\"Encoded New Data Aligned:\")\n",
    "print(new_data_aligned)\n",
    "\n",
    "# Check for missing features\n",
    "missing_features = set(features_used_in_training) - set(new_data_aligned.columns)\n",
    "\n",
    "if missing_features:\n",
    "    print(f\"Missing features in new_data_aligned: {missing_features}\")\n",
    "else:\n",
    "    # Make predictions using the tuned Random Forest model\n",
    "    new_data_predictions = rf_tuned_model.predict(new_data_aligned)\n",
    "\n",
    "    # Display the predictions\n",
    "    print(\"\\nPredictions on New Data:\")\n",
    "    print(new_data_predictions)\n",
    "\n",
    "    # Provide recommendations based on the model's insights\n",
    "    # Adjust recommendations based on your understanding of the problem\n",
    "    if any(new_data_predictions):\n",
    "        print(\"Recommendation: Increased likelihood of churn. Consider targeted retention strategies.\")\n",
    "    else:\n",
    "        print(\"Recommendation: Low likelihood of churn. Focus on customer satisfaction and loyalty programs.\")\n"
   ]
  }
 ],
 "metadata": {
  "kernelspec": {
   "display_name": "Python 3 (ipykernel)",
   "language": "python",
   "name": "python3"
  },
  "language_info": {
   "codemirror_mode": {
    "name": "ipython",
    "version": 3
   },
   "file_extension": ".py",
   "mimetype": "text/x-python",
   "name": "python",
   "nbconvert_exporter": "python",
   "pygments_lexer": "ipython3",
   "version": "3.11.4"
  }
 },
 "nbformat": 4,
 "nbformat_minor": 2
}
